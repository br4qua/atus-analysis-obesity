{
 "cells": [
  {
   "cell_type": "markdown",
   "metadata": {},
   "source": [
    "# COGS 108 Final Project\n",
    "# Exercise vs. Food Environment – Obesity Classification"
   ]
  },
  {
   "cell_type": "markdown",
   "metadata": {},
   "source": [
    "## Authors\n",
    "Bryant Lin, Swarnakshi Kapil, Hendrik Hannes Holste\n",
    "\n",
    "PIDs (not in order):\n",
    "- A99044591\n",
    "- A09404900\n",
    "- A91052353\n",
    "\n",
    "6/12/2017"
   ]
  },
  {
   "cell_type": "markdown",
   "metadata": {},
   "source": [
    "## Introduction and Background"
   ]
  },
  {
   "cell_type": "markdown",
   "metadata": {},
   "source": [
    "Sugared beverages, french fries and hamburgers: beloved staples of Western diets yet insidious threats to long-term health. Obesity in the United States is an epidemic, yet many dismiss it as a problem caused by unfavorable genetics or lack of willpower [1].\n",
    "\n",
    "In particular, the idea has gained traction that lack of desire to exercise is the root cause behind obesity, culminating in political programs encouraging exercise as a remedy, such as Michelle Obama’s “Just Move” [3]. A lot of research exists exploring the link between lifestyle and obesity, though in many epidemiological studies, proxy features such as \"caloric intake in kcal\" are used [2].\n",
    "\n",
    "Yet such calorie and exercise-focused models may not adequately consider how food environments shape behavior as root causes. To what extent do socio-economic context and food behaviors (e.g. income level and frequency of consuming sugared soda) predict obesity? Investigating this question may reveal that food environments and dieting behaviors serve as better predictors of obesity than exercise-related features.\n",
    "\n",
    "References:\n",
    "- [1] D. Elsweiler, M. Harvey, Towards Automatic Meal Plan Recommendations for Balanced Nutrition. Vienna, Austria: ACM, 2015 (http://dl.acm.org/citation.cfm?id=2799665)\n",
    "- [2] https://med.stanford.edu/news/all-news/2014/07/lack-of-exercise--not-diet--linked-to-rise-in-obesity--stanford-.html\n",
    "- [3] http://www.modernhealthcare.com/article/20160823/NEWS/160829986"
   ]
  },
  {
   "cell_type": "markdown",
   "metadata": {},
   "source": [
    "## Data Description"
   ]
  },
  {
   "cell_type": "markdown",
   "metadata": {},
   "source": [
    "We are using the following dataset:\n",
    "\n",
    "- American Time Use Survey (ATUS) Eating & Health Module Files from 2014-2015\n",
    "https://www.atusdata.org\n",
    "    - Survey responses of eating, and exercising habits given by participants. Core features location, household income, age, ethnicity, weight, height, BMI and general health status. Features also include location where majority of grocery is purchased, frequency of exercise, and dieting features. \n",
    "    - 74,007 observations\n",
    "    - 52 raw features"
   ]
  },
  {
   "cell_type": "code",
   "execution_count": 4,
   "metadata": {
    "collapsed": true
   },
   "outputs": [],
   "source": [
    "import pandas as pd\n",
    "import numpy as np\n",
    "import simplejson as json\n",
    "import matplotlib.pyplot as plt\n",
    "import matplotlib as mlt"
   ]
  },
  {
   "cell_type": "code",
   "execution_count": 5,
   "metadata": {
    "collapsed": true
   },
   "outputs": [],
   "source": [
    "%matplotlib inline\n",
    "% config InlineBackend.figure_format = 'retina'\n",
    "% matplotlib inline\n",
    "from pylab import rcParams\n",
    "rcParams['figure.figsize'] = 14, 8"
   ]
  },
  {
   "cell_type": "markdown",
   "metadata": {},
   "source": [
    "## Data Cleaning / Pre-processing"
   ]
  },
  {
   "cell_type": "code",
   "execution_count": null,
   "metadata": {
    "collapsed": true
   },
   "outputs": [],
   "source": []
  },
  {
   "cell_type": "markdown",
   "metadata": {},
   "source": [
    "## Data Visualization"
   ]
  },
  {
   "cell_type": "code",
   "execution_count": null,
   "metadata": {
    "collapsed": true
   },
   "outputs": [],
   "source": []
  },
  {
   "cell_type": "markdown",
   "metadata": {},
   "source": [
    "## Data Analysis and Results"
   ]
  },
  {
   "cell_type": "code",
   "execution_count": null,
   "metadata": {
    "collapsed": true
   },
   "outputs": [],
   "source": []
  },
  {
   "cell_type": "markdown",
   "metadata": {},
   "source": [
    "## Conclusions / Discussion"
   ]
  },
  {
   "cell_type": "code",
   "execution_count": null,
   "metadata": {
    "collapsed": true
   },
   "outputs": [],
   "source": []
  }
 ],
 "metadata": {
  "kernelspec": {
   "display_name": "py36",
   "language": "python",
   "name": "py36"
  },
  "language_info": {
   "codemirror_mode": {
    "name": "ipython",
    "version": 3
   },
   "file_extension": ".py",
   "mimetype": "text/x-python",
   "name": "python",
   "nbconvert_exporter": "python",
   "pygments_lexer": "ipython3",
   "version": "3.6.1"
  }
 },
 "nbformat": 4,
 "nbformat_minor": 0
}
